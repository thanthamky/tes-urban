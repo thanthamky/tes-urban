{
 "cells": [
  {
   "cell_type": "code",
   "execution_count": 1,
   "metadata": {},
   "outputs": [],
   "source": [
    "import os\n",
    "import leafmap.leafmap as leafmap"
   ]
  },
  {
   "cell_type": "code",
   "execution_count": 2,
   "metadata": {},
   "outputs": [],
   "source": [
    "#!pip install leafmap localtileserver"
   ]
  },
  {
   "cell_type": "code",
   "execution_count": 38,
   "metadata": {},
   "outputs": [
    {
     "ename": "RasterioIOError",
     "evalue": "lulc_city_camk_2024_3st_3_bd.tif: No such file or directory",
     "output_type": "error",
     "traceback": [
      "\u001b[0;31m---------------------------------------------------------------------------\u001b[0m",
      "\u001b[0;31mCPLE_OpenFailedError\u001b[0m                      Traceback (most recent call last)",
      "File \u001b[0;32mrasterio/_base.pyx:310\u001b[0m, in \u001b[0;36mrasterio._base.DatasetBase.__init__\u001b[0;34m()\u001b[0m\n",
      "File \u001b[0;32mrasterio/_base.pyx:221\u001b[0m, in \u001b[0;36mrasterio._base.open_dataset\u001b[0;34m()\u001b[0m\n",
      "File \u001b[0;32mrasterio/_err.pyx:359\u001b[0m, in \u001b[0;36mrasterio._err.exc_wrap_pointer\u001b[0;34m()\u001b[0m\n",
      "\u001b[0;31mCPLE_OpenFailedError\u001b[0m: lulc_city_camk_2024_3st_3_bd.tif: No such file or directory",
      "\nDuring handling of the above exception, another exception occurred:\n",
      "\u001b[0;31mRasterioIOError\u001b[0m                           Traceback (most recent call last)",
      "Cell \u001b[0;32mIn[38], line 39\u001b[0m\n\u001b[1;32m     28\u001b[0m         copy(\n\u001b[1;32m     29\u001b[0m             input_path,\n\u001b[1;32m     30\u001b[0m             output_path,\n\u001b[0;32m   (...)\u001b[0m\n\u001b[1;32m     34\u001b[0m             NUM_THREADS\u001b[38;5;241m=\u001b[39m\u001b[38;5;124m'\u001b[39m\u001b[38;5;124mALL_CPUS\u001b[39m\u001b[38;5;124m'\u001b[39m  \u001b[38;5;66;03m# Enable multithreading\u001b[39;00m\n\u001b[1;32m     35\u001b[0m         )\n\u001b[1;32m     38\u001b[0m \u001b[38;5;66;03m# Example usage:\u001b[39;00m\n\u001b[0;32m---> 39\u001b[0m \u001b[43mconvert_to_cog\u001b[49m\u001b[43m(\u001b[49m\u001b[38;5;124;43m'\u001b[39;49m\u001b[38;5;124;43mlulc_city_camk_2024_3st_3_bd.tif\u001b[39;49m\u001b[38;5;124;43m'\u001b[39;49m\u001b[43m,\u001b[49m\u001b[43m \u001b[49m\u001b[38;5;124;43m'\u001b[39;49m\u001b[38;5;124;43mlulc_city_camk_2024_3st_3_bd_cog.tif\u001b[39;49m\u001b[38;5;124;43m'\u001b[39;49m\u001b[43m)\u001b[49m\n",
      "Cell \u001b[0;32mIn[38], line 13\u001b[0m, in \u001b[0;36mconvert_to_cog\u001b[0;34m(input_path, output_path)\u001b[0m\n\u001b[1;32m      5\u001b[0m \u001b[38;5;28;01mdef\u001b[39;00m \u001b[38;5;21mconvert_to_cog\u001b[39m(input_path, output_path):\n\u001b[1;32m      6\u001b[0m \u001b[38;5;250m    \u001b[39m\u001b[38;5;124;03m\"\"\"\u001b[39;00m\n\u001b[1;32m      7\u001b[0m \u001b[38;5;124;03m    Convert a GeoTIFF file to a Cloud Optimized GeoTIFF (COG) using Rasterio.\u001b[39;00m\n\u001b[1;32m      8\u001b[0m \u001b[38;5;124;03m    \u001b[39;00m\n\u001b[0;32m   (...)\u001b[0m\n\u001b[1;32m     11\u001b[0m \u001b[38;5;124;03m    - output_path: str, path to save the output COG file\u001b[39;00m\n\u001b[1;32m     12\u001b[0m \u001b[38;5;124;03m    \"\"\"\u001b[39;00m\n\u001b[0;32m---> 13\u001b[0m     \u001b[38;5;28;01mwith\u001b[39;00m \u001b[43mrasterio\u001b[49m\u001b[38;5;241;43m.\u001b[39;49m\u001b[43mopen\u001b[49m\u001b[43m(\u001b[49m\u001b[43minput_path\u001b[49m\u001b[43m)\u001b[49m \u001b[38;5;28;01mas\u001b[39;00m src:\n\u001b[1;32m     14\u001b[0m         \u001b[38;5;66;03m# Copy the profile from the source and update for COG format\u001b[39;00m\n\u001b[1;32m     15\u001b[0m         cog_profile \u001b[38;5;241m=\u001b[39m src\u001b[38;5;241m.\u001b[39mprofile\u001b[38;5;241m.\u001b[39mcopy()\n\u001b[1;32m     16\u001b[0m         cog_profile\u001b[38;5;241m.\u001b[39mupdate(\n\u001b[1;32m     17\u001b[0m             driver\u001b[38;5;241m=\u001b[39m\u001b[38;5;124m'\u001b[39m\u001b[38;5;124mGTiff\u001b[39m\u001b[38;5;124m'\u001b[39m,  \u001b[38;5;66;03m# Ensure the driver is set to 'GTiff' for COG generation\u001b[39;00m\n\u001b[1;32m     18\u001b[0m             tiled\u001b[38;5;241m=\u001b[39m\u001b[38;5;28;01mTrue\u001b[39;00m,\n\u001b[0;32m   (...)\u001b[0m\n\u001b[1;32m     24\u001b[0m             nodata\u001b[38;5;241m=\u001b[39msrc\u001b[38;5;241m.\u001b[39mnodata  \u001b[38;5;66;03m# Retain nodata values if they exist\u001b[39;00m\n\u001b[1;32m     25\u001b[0m         )\n",
      "File \u001b[0;32m/opt/anaconda3/envs/ttg-tes/lib/python3.10/site-packages/rasterio/env.py:463\u001b[0m, in \u001b[0;36mensure_env_with_credentials.<locals>.wrapper\u001b[0;34m(*args, **kwds)\u001b[0m\n\u001b[1;32m    460\u001b[0m     session \u001b[38;5;241m=\u001b[39m DummySession()\n\u001b[1;32m    462\u001b[0m \u001b[38;5;28;01mwith\u001b[39;00m env_ctor(session\u001b[38;5;241m=\u001b[39msession):\n\u001b[0;32m--> 463\u001b[0m     \u001b[38;5;28;01mreturn\u001b[39;00m \u001b[43mf\u001b[49m\u001b[43m(\u001b[49m\u001b[38;5;241;43m*\u001b[39;49m\u001b[43margs\u001b[49m\u001b[43m,\u001b[49m\u001b[43m \u001b[49m\u001b[38;5;241;43m*\u001b[39;49m\u001b[38;5;241;43m*\u001b[39;49m\u001b[43mkwds\u001b[49m\u001b[43m)\u001b[49m\n",
      "File \u001b[0;32m/opt/anaconda3/envs/ttg-tes/lib/python3.10/site-packages/rasterio/__init__.py:355\u001b[0m, in \u001b[0;36mopen\u001b[0;34m(fp, mode, driver, width, height, count, crs, transform, dtype, nodata, sharing, opener, **kwargs)\u001b[0m\n\u001b[1;32m    352\u001b[0m     path \u001b[38;5;241m=\u001b[39m _parse_path(raw_dataset_path)\n\u001b[1;32m    354\u001b[0m \u001b[38;5;28;01mif\u001b[39;00m mode \u001b[38;5;241m==\u001b[39m \u001b[38;5;124m\"\u001b[39m\u001b[38;5;124mr\u001b[39m\u001b[38;5;124m\"\u001b[39m:\n\u001b[0;32m--> 355\u001b[0m     dataset \u001b[38;5;241m=\u001b[39m \u001b[43mDatasetReader\u001b[49m\u001b[43m(\u001b[49m\u001b[43mpath\u001b[49m\u001b[43m,\u001b[49m\u001b[43m \u001b[49m\u001b[43mdriver\u001b[49m\u001b[38;5;241;43m=\u001b[39;49m\u001b[43mdriver\u001b[49m\u001b[43m,\u001b[49m\u001b[43m \u001b[49m\u001b[43msharing\u001b[49m\u001b[38;5;241;43m=\u001b[39;49m\u001b[43msharing\u001b[49m\u001b[43m,\u001b[49m\u001b[43m \u001b[49m\u001b[38;5;241;43m*\u001b[39;49m\u001b[38;5;241;43m*\u001b[39;49m\u001b[43mkwargs\u001b[49m\u001b[43m)\u001b[49m\n\u001b[1;32m    356\u001b[0m \u001b[38;5;28;01melif\u001b[39;00m mode \u001b[38;5;241m==\u001b[39m \u001b[38;5;124m\"\u001b[39m\u001b[38;5;124mr+\u001b[39m\u001b[38;5;124m\"\u001b[39m:\n\u001b[1;32m    357\u001b[0m     dataset \u001b[38;5;241m=\u001b[39m get_writer_for_path(path, driver\u001b[38;5;241m=\u001b[39mdriver)(\n\u001b[1;32m    358\u001b[0m         path, mode, driver\u001b[38;5;241m=\u001b[39mdriver, sharing\u001b[38;5;241m=\u001b[39msharing, \u001b[38;5;241m*\u001b[39m\u001b[38;5;241m*\u001b[39mkwargs\n\u001b[1;32m    359\u001b[0m     )\n",
      "File \u001b[0;32mrasterio/_base.pyx:312\u001b[0m, in \u001b[0;36mrasterio._base.DatasetBase.__init__\u001b[0;34m()\u001b[0m\n",
      "\u001b[0;31mRasterioIOError\u001b[0m: lulc_city_camk_2024_3st_3_bd.tif: No such file or directory"
     ]
    }
   ],
   "source": [
    "import rasterio\n",
    "from rasterio.shutil import copy\n",
    "\n",
    "\n",
    "def convert_to_cog(input_path, output_path):\n",
    "    \"\"\"\n",
    "    Convert a GeoTIFF file to a Cloud Optimized GeoTIFF (COG) using Rasterio.\n",
    "    \n",
    "    Parameters:\n",
    "    - input_path: str, path to the input GeoTIFF file\n",
    "    - output_path: str, path to save the output COG file\n",
    "    \"\"\"\n",
    "    with rasterio.open(input_path) as src:\n",
    "        # Copy the profile from the source and update for COG format\n",
    "        cog_profile = src.profile.copy()\n",
    "        cog_profile.update(\n",
    "            driver='GTiff',  # Ensure the driver is set to 'GTiff' for COG generation\n",
    "            tiled=True,\n",
    "            compress='deflate',\n",
    "            interleave='band',\n",
    "            blockxsize=256,\n",
    "            blockysize=256,\n",
    "            # Setting to follow COG structure guidelines\n",
    "            nodata=src.nodata  # Retain nodata values if they exist\n",
    "        )\n",
    "\n",
    "        # Use rasterio's copy function to create a COG\n",
    "        copy(\n",
    "            input_path,\n",
    "            output_path,\n",
    "            **cog_profile,\n",
    "            copy_src_overviews=True,\n",
    "            BIGTIFF='IF_SAFER',  # Handling large files safely\n",
    "            NUM_THREADS='ALL_CPUS'  # Enable multithreading\n",
    "        )\n",
    "\n",
    "\n",
    "# Example usage:\n",
    "convert_to_cog('lulc_city_camk_2024_3st_3_bd.tif', 'lulc_city_camk_2024_3st_3_bd_cog.tif')\n"
   ]
  },
  {
   "cell_type": "code",
   "execution_count": 39,
   "metadata": {},
   "outputs": [],
   "source": [
    "color_lulc_map ={\n",
    "     0: (0,0,0),\n",
    "    10: (21, 176, 26),\n",
    "    20: (255, 128, 255),\n",
    "    30: (255, 255, 0),\n",
    "    40: (255, 0, 255),\n",
    "    50: (255, 0, 0),\n",
    "    60: (255, 255, 200),\n",
    "    80: (0,0,255)\n",
    "   \n",
    "}"
   ]
  },
  {
   "cell_type": "code",
   "execution_count": 40,
   "metadata": {},
   "outputs": [
    {
     "ename": "TypeError",
     "evalue": "get_cmap expects None or an instance of a str or Colormap . you passed {0: (0, 0, 0), 10: (21, 176, 26), 20: (255, 128, 255), 30: (255, 255, 0), 40: (255, 0, 255), 50: (255, 0, 0), 60: (255, 255, 200), 80: (0, 0, 255)} of type <class 'dict'>",
     "output_type": "error",
     "traceback": [
      "\u001b[0;31m---------------------------------------------------------------------------\u001b[0m",
      "\u001b[0;31mTypeError\u001b[0m                                 Traceback (most recent call last)",
      "Cell \u001b[0;32mIn[40], line 3\u001b[0m\n\u001b[1;32m      1\u001b[0m m \u001b[38;5;241m=\u001b[39m leafmap\u001b[38;5;241m.\u001b[39mMap()\n\u001b[0;32m----> 3\u001b[0m \u001b[43mm\u001b[49m\u001b[38;5;241;43m.\u001b[39;49m\u001b[43madd_raster\u001b[49m\u001b[43m(\u001b[49m\u001b[38;5;124;43m'\u001b[39;49m\u001b[38;5;124;43mlulc_city_rf_2024_cog.tif\u001b[39;49m\u001b[38;5;124;43m'\u001b[39;49m\u001b[43m,\u001b[49m\u001b[43m \u001b[49m\u001b[43mcolormap\u001b[49m\u001b[38;5;241;43m=\u001b[39;49m\u001b[43mcolor_lulc_map\u001b[49m\u001b[43m,\u001b[49m\u001b[43m \u001b[49m\u001b[43mlayer_name\u001b[49m\u001b[38;5;241;43m=\u001b[39;49m\u001b[38;5;124;43m\"\u001b[39;49m\u001b[38;5;124;43m2024 Baseline\u001b[39;49m\u001b[38;5;124;43m\"\u001b[39;49m\u001b[43m)\u001b[49m\n\u001b[1;32m      4\u001b[0m \u001b[38;5;66;03m# m.add_raster('lulc_city_camk_2024_3st_1.tif', layer_name=\"2034 CAMK\")\u001b[39;00m\n\u001b[1;32m      6\u001b[0m m\n",
      "File \u001b[0;32m/opt/anaconda3/envs/ttg-tes/lib/python3.10/site-packages/leafmap/leafmap.py:2384\u001b[0m, in \u001b[0;36mMap.add_raster\u001b[0;34m(self, source, indexes, colormap, vmin, vmax, nodata, attribution, layer_name, layer_index, zoom_to_layer, visible, opacity, array_args, client_args, **kwargs)\u001b[0m\n\u001b[1;32m   2381\u001b[0m \u001b[38;5;28;01mif\u001b[39;00m \u001b[38;5;28misinstance\u001b[39m(source, np\u001b[38;5;241m.\u001b[39mndarray) \u001b[38;5;129;01mor\u001b[39;00m \u001b[38;5;28misinstance\u001b[39m(source, xr\u001b[38;5;241m.\u001b[39mDataArray):\n\u001b[1;32m   2382\u001b[0m     source \u001b[38;5;241m=\u001b[39m common\u001b[38;5;241m.\u001b[39marray_to_image(source, \u001b[38;5;241m*\u001b[39m\u001b[38;5;241m*\u001b[39marray_args)\n\u001b[0;32m-> 2384\u001b[0m tile_layer, tile_client \u001b[38;5;241m=\u001b[39m \u001b[43mcommon\u001b[49m\u001b[38;5;241;43m.\u001b[39;49m\u001b[43mget_local_tile_layer\u001b[49m\u001b[43m(\u001b[49m\n\u001b[1;32m   2385\u001b[0m \u001b[43m    \u001b[49m\u001b[43msource\u001b[49m\u001b[43m,\u001b[49m\n\u001b[1;32m   2386\u001b[0m \u001b[43m    \u001b[49m\u001b[43mindexes\u001b[49m\u001b[38;5;241;43m=\u001b[39;49m\u001b[43mindexes\u001b[49m\u001b[43m,\u001b[49m\n\u001b[1;32m   2387\u001b[0m \u001b[43m    \u001b[49m\u001b[43mcolormap\u001b[49m\u001b[38;5;241;43m=\u001b[39;49m\u001b[43mcolormap\u001b[49m\u001b[43m,\u001b[49m\n\u001b[1;32m   2388\u001b[0m \u001b[43m    \u001b[49m\u001b[43mvmin\u001b[49m\u001b[38;5;241;43m=\u001b[39;49m\u001b[43mvmin\u001b[49m\u001b[43m,\u001b[49m\n\u001b[1;32m   2389\u001b[0m \u001b[43m    \u001b[49m\u001b[43mvmax\u001b[49m\u001b[38;5;241;43m=\u001b[39;49m\u001b[43mvmax\u001b[49m\u001b[43m,\u001b[49m\n\u001b[1;32m   2390\u001b[0m \u001b[43m    \u001b[49m\u001b[43mnodata\u001b[49m\u001b[38;5;241;43m=\u001b[39;49m\u001b[43mnodata\u001b[49m\u001b[43m,\u001b[49m\n\u001b[1;32m   2391\u001b[0m \u001b[43m    \u001b[49m\u001b[43mopacity\u001b[49m\u001b[38;5;241;43m=\u001b[39;49m\u001b[43mopacity\u001b[49m\u001b[43m,\u001b[49m\n\u001b[1;32m   2392\u001b[0m \u001b[43m    \u001b[49m\u001b[43mattribution\u001b[49m\u001b[38;5;241;43m=\u001b[39;49m\u001b[43mattribution\u001b[49m\u001b[43m,\u001b[49m\n\u001b[1;32m   2393\u001b[0m \u001b[43m    \u001b[49m\u001b[43mlayer_name\u001b[49m\u001b[38;5;241;43m=\u001b[39;49m\u001b[43mlayer_name\u001b[49m\u001b[43m,\u001b[49m\n\u001b[1;32m   2394\u001b[0m \u001b[43m    \u001b[49m\u001b[43mclient_args\u001b[49m\u001b[38;5;241;43m=\u001b[39;49m\u001b[43mclient_args\u001b[49m\u001b[43m,\u001b[49m\n\u001b[1;32m   2395\u001b[0m \u001b[43m    \u001b[49m\u001b[43mreturn_client\u001b[49m\u001b[38;5;241;43m=\u001b[39;49m\u001b[38;5;28;43;01mTrue\u001b[39;49;00m\u001b[43m,\u001b[49m\n\u001b[1;32m   2396\u001b[0m \u001b[43m    \u001b[49m\u001b[38;5;241;43m*\u001b[39;49m\u001b[38;5;241;43m*\u001b[39;49m\u001b[43mkwargs\u001b[49m\u001b[43m,\u001b[49m\n\u001b[1;32m   2397\u001b[0m \u001b[43m\u001b[49m\u001b[43m)\u001b[49m\n\u001b[1;32m   2398\u001b[0m tile_layer\u001b[38;5;241m.\u001b[39mvisible \u001b[38;5;241m=\u001b[39m visible\n\u001b[1;32m   2400\u001b[0m \u001b[38;5;28mself\u001b[39m\u001b[38;5;241m.\u001b[39madd(tile_layer, index\u001b[38;5;241m=\u001b[39mlayer_index)\n",
      "File \u001b[0;32m/opt/anaconda3/envs/ttg-tes/lib/python3.10/site-packages/leafmap/common.py:2999\u001b[0m, in \u001b[0;36mget_local_tile_layer\u001b[0;34m(source, port, debug, indexes, colormap, vmin, vmax, nodata, attribution, tile_format, layer_name, client_args, return_client, quiet, **kwargs)\u001b[0m\n\u001b[1;32m   2997\u001b[0m \u001b[38;5;28;01melse\u001b[39;00m:\n\u001b[1;32m   2998\u001b[0m     \u001b[38;5;28;01mif\u001b[39;00m tile_format \u001b[38;5;241m==\u001b[39m \u001b[38;5;124m\"\u001b[39m\u001b[38;5;124mipyleaflet\u001b[39m\u001b[38;5;124m\"\u001b[39m:\n\u001b[0;32m-> 2999\u001b[0m         tile_layer \u001b[38;5;241m=\u001b[39m \u001b[43mget_leaflet_tile_layer\u001b[49m\u001b[43m(\u001b[49m\n\u001b[1;32m   3000\u001b[0m \u001b[43m            \u001b[49m\u001b[43mtile_client\u001b[49m\u001b[43m,\u001b[49m\n\u001b[1;32m   3001\u001b[0m \u001b[43m            \u001b[49m\u001b[43mport\u001b[49m\u001b[38;5;241;43m=\u001b[39;49m\u001b[43mport\u001b[49m\u001b[43m,\u001b[49m\n\u001b[1;32m   3002\u001b[0m \u001b[43m            \u001b[49m\u001b[43mdebug\u001b[49m\u001b[38;5;241;43m=\u001b[39;49m\u001b[43mdebug\u001b[49m\u001b[43m,\u001b[49m\n\u001b[1;32m   3003\u001b[0m \u001b[43m            \u001b[49m\u001b[43mindexes\u001b[49m\u001b[38;5;241;43m=\u001b[39;49m\u001b[43mindexes\u001b[49m\u001b[43m,\u001b[49m\n\u001b[1;32m   3004\u001b[0m \u001b[43m            \u001b[49m\u001b[43mcolormap\u001b[49m\u001b[38;5;241;43m=\u001b[39;49m\u001b[43mcolormap\u001b[49m\u001b[43m,\u001b[49m\n\u001b[1;32m   3005\u001b[0m \u001b[43m            \u001b[49m\u001b[43mvmin\u001b[49m\u001b[38;5;241;43m=\u001b[39;49m\u001b[43mvmin\u001b[49m\u001b[43m,\u001b[49m\n\u001b[1;32m   3006\u001b[0m \u001b[43m            \u001b[49m\u001b[43mvmax\u001b[49m\u001b[38;5;241;43m=\u001b[39;49m\u001b[43mvmax\u001b[49m\u001b[43m,\u001b[49m\n\u001b[1;32m   3007\u001b[0m \u001b[43m            \u001b[49m\u001b[43mnodata\u001b[49m\u001b[38;5;241;43m=\u001b[39;49m\u001b[43mnodata\u001b[49m\u001b[43m,\u001b[49m\n\u001b[1;32m   3008\u001b[0m \u001b[43m            \u001b[49m\u001b[43mattribution\u001b[49m\u001b[38;5;241;43m=\u001b[39;49m\u001b[43mattribution\u001b[49m\u001b[43m,\u001b[49m\n\u001b[1;32m   3009\u001b[0m \u001b[43m            \u001b[49m\u001b[43mname\u001b[49m\u001b[38;5;241;43m=\u001b[39;49m\u001b[43mlayer_name\u001b[49m\u001b[43m,\u001b[49m\n\u001b[1;32m   3010\u001b[0m \u001b[43m            \u001b[49m\u001b[38;5;241;43m*\u001b[39;49m\u001b[38;5;241;43m*\u001b[39;49m\u001b[43mkwargs\u001b[49m\u001b[43m,\u001b[49m\n\u001b[1;32m   3011\u001b[0m \u001b[43m        \u001b[49m\u001b[43m)\u001b[49m\n\u001b[1;32m   3012\u001b[0m     \u001b[38;5;28;01melse\u001b[39;00m:\n\u001b[1;32m   3013\u001b[0m         tile_layer \u001b[38;5;241m=\u001b[39m get_folium_tile_layer(\n\u001b[1;32m   3014\u001b[0m             tile_client,\n\u001b[1;32m   3015\u001b[0m             port\u001b[38;5;241m=\u001b[39mport,\n\u001b[0;32m   (...)\u001b[0m\n\u001b[1;32m   3025\u001b[0m             \u001b[38;5;241m*\u001b[39m\u001b[38;5;241m*\u001b[39mkwargs,\n\u001b[1;32m   3026\u001b[0m         )\n",
      "File \u001b[0;32m/opt/anaconda3/envs/ttg-tes/lib/python3.10/site-packages/localtileserver/widgets.py:105\u001b[0m, in \u001b[0;36mget_leaflet_tile_layer\u001b[0;34m(source, port, debug, indexes, colormap, vmin, vmax, nodata, attribution, **kwargs)\u001b[0m\n\u001b[1;32m     98\u001b[0m     bounds \u001b[38;5;241m=\u001b[39m Union((Tuple(),), default_value\u001b[38;5;241m=\u001b[39m\u001b[38;5;28;01mNone\u001b[39;00m, allow_none\u001b[38;5;241m=\u001b[39m\u001b[38;5;28;01mTrue\u001b[39;00m)\u001b[38;5;241m.\u001b[39mtag(sync\u001b[38;5;241m=\u001b[39m\u001b[38;5;28;01mTrue\u001b[39;00m, o\u001b[38;5;241m=\u001b[39m\u001b[38;5;28;01mTrue\u001b[39;00m)\n\u001b[1;32m    100\u001b[0m source, created \u001b[38;5;241m=\u001b[39m get_or_create_tile_client(\n\u001b[1;32m    101\u001b[0m     source,\n\u001b[1;32m    102\u001b[0m     port\u001b[38;5;241m=\u001b[39mport,\n\u001b[1;32m    103\u001b[0m     debug\u001b[38;5;241m=\u001b[39mdebug,\n\u001b[1;32m    104\u001b[0m )\n\u001b[0;32m--> 105\u001b[0m url \u001b[38;5;241m=\u001b[39m \u001b[43msource\u001b[49m\u001b[38;5;241;43m.\u001b[39;49m\u001b[43mget_tile_url\u001b[49m\u001b[43m(\u001b[49m\n\u001b[1;32m    106\u001b[0m \u001b[43m    \u001b[49m\u001b[43mindexes\u001b[49m\u001b[38;5;241;43m=\u001b[39;49m\u001b[43mindexes\u001b[49m\u001b[43m,\u001b[49m\n\u001b[1;32m    107\u001b[0m \u001b[43m    \u001b[49m\u001b[43mcolormap\u001b[49m\u001b[38;5;241;43m=\u001b[39;49m\u001b[43mcolormap\u001b[49m\u001b[43m,\u001b[49m\n\u001b[1;32m    108\u001b[0m \u001b[43m    \u001b[49m\u001b[43mvmin\u001b[49m\u001b[38;5;241;43m=\u001b[39;49m\u001b[43mvmin\u001b[49m\u001b[43m,\u001b[49m\n\u001b[1;32m    109\u001b[0m \u001b[43m    \u001b[49m\u001b[43mvmax\u001b[49m\u001b[38;5;241;43m=\u001b[39;49m\u001b[43mvmax\u001b[49m\u001b[43m,\u001b[49m\n\u001b[1;32m    110\u001b[0m \u001b[43m    \u001b[49m\u001b[43mnodata\u001b[49m\u001b[38;5;241;43m=\u001b[39;49m\u001b[43mnodata\u001b[49m\u001b[43m,\u001b[49m\n\u001b[1;32m    111\u001b[0m \u001b[43m    \u001b[49m\u001b[43mclient\u001b[49m\u001b[38;5;241;43m=\u001b[39;49m\u001b[38;5;28;43;01mTrue\u001b[39;49;00m\u001b[43m,\u001b[49m\n\u001b[1;32m    112\u001b[0m \u001b[43m\u001b[49m\u001b[43m)\u001b[49m\n\u001b[1;32m    113\u001b[0m \u001b[38;5;28;01mif\u001b[39;00m attribution \u001b[38;5;129;01mis\u001b[39;00m \u001b[38;5;28;01mNone\u001b[39;00m:\n\u001b[1;32m    114\u001b[0m     attribution \u001b[38;5;241m=\u001b[39m DEFAULT_ATTRIBUTION\n",
      "File \u001b[0;32m/opt/anaconda3/envs/ttg-tes/lib/python3.10/site-packages/localtileserver/client.py:467\u001b[0m, in \u001b[0;36mTileServerMixin.get_tile_url\u001b[0;34m(self, indexes, colormap, vmin, vmax, nodata, client)\u001b[0m\n\u001b[1;32m    464\u001b[0m         colormap \u001b[38;5;241m=\u001b[39m json\u001b[38;5;241m.\u001b[39mdumps(colormap)\n\u001b[1;32m    465\u001b[0m     \u001b[38;5;28;01melse\u001b[39;00m:\n\u001b[1;32m    466\u001b[0m         \u001b[38;5;66;03m# make sure palette is valid\u001b[39;00m\n\u001b[0;32m--> 467\u001b[0m         \u001b[43mpalette_valid_or_raise\u001b[49m\u001b[43m(\u001b[49m\u001b[43mcolormap\u001b[49m\u001b[43m)\u001b[49m\n\u001b[1;32m    469\u001b[0m     params[\u001b[38;5;124m\"\u001b[39m\u001b[38;5;124mcolormap\u001b[39m\u001b[38;5;124m\"\u001b[39m] \u001b[38;5;241m=\u001b[39m colormap\n\u001b[1;32m    470\u001b[0m \u001b[38;5;28;01mif\u001b[39;00m vmin \u001b[38;5;129;01mis\u001b[39;00m \u001b[38;5;129;01mnot\u001b[39;00m \u001b[38;5;28;01mNone\u001b[39;00m:\n",
      "File \u001b[0;32m/opt/anaconda3/envs/ttg-tes/lib/python3.10/site-packages/localtileserver/tiler/palettes.py:30\u001b[0m, in \u001b[0;36mpalette_valid_or_raise\u001b[0;34m(name)\u001b[0m\n\u001b[1;32m     29\u001b[0m \u001b[38;5;28;01mdef\u001b[39;00m \u001b[38;5;21mpalette_valid_or_raise\u001b[39m(name: \u001b[38;5;28mstr\u001b[39m):\n\u001b[0;32m---> 30\u001b[0m     \u001b[38;5;28;01mif\u001b[39;00m \u001b[38;5;129;01mnot\u001b[39;00m \u001b[43mis_mpl_cmap\u001b[49m\u001b[43m(\u001b[49m\u001b[43mname\u001b[49m\u001b[43m)\u001b[49m:\n\u001b[1;32m     31\u001b[0m         \u001b[38;5;28;01mraise\u001b[39;00m \u001b[38;5;167;01mValueError\u001b[39;00m(\u001b[38;5;124mf\u001b[39m\u001b[38;5;124m\"\u001b[39m\u001b[38;5;124mPlease use a valid matplotlib colormap name. Invalid: \u001b[39m\u001b[38;5;132;01m{\u001b[39;00mname\u001b[38;5;132;01m}\u001b[39;00m\u001b[38;5;124m\"\u001b[39m)\n",
      "File \u001b[0;32m/opt/anaconda3/envs/ttg-tes/lib/python3.10/site-packages/localtileserver/tiler/palettes.py:20\u001b[0m, in \u001b[0;36mis_mpl_cmap\u001b[0;34m(name)\u001b[0m\n\u001b[1;32m     17\u001b[0m \u001b[38;5;28;01mtry\u001b[39;00m:\n\u001b[1;32m     18\u001b[0m     \u001b[38;5;28;01mimport\u001b[39;00m \u001b[38;5;21;01mmatplotlib\u001b[39;00m\n\u001b[0;32m---> 20\u001b[0m     \u001b[43mmatplotlib\u001b[49m\u001b[38;5;241;43m.\u001b[39;49m\u001b[43mcolormaps\u001b[49m\u001b[38;5;241;43m.\u001b[39;49m\u001b[43mget_cmap\u001b[49m\u001b[43m(\u001b[49m\u001b[43mname\u001b[49m\u001b[43m)\u001b[49m\n\u001b[1;32m     21\u001b[0m     \u001b[38;5;28;01mreturn\u001b[39;00m \u001b[38;5;28;01mTrue\u001b[39;00m\n\u001b[1;32m     22\u001b[0m \u001b[38;5;28;01mexcept\u001b[39;00m \u001b[38;5;167;01mImportError\u001b[39;00m:  \u001b[38;5;66;03m# pragma: no cover\u001b[39;00m\n",
      "File \u001b[0;32m/opt/anaconda3/envs/ttg-tes/lib/python3.10/site-packages/matplotlib/cm.py:222\u001b[0m, in \u001b[0;36mColormapRegistry.get_cmap\u001b[0;34m(self, cmap)\u001b[0m\n\u001b[1;32m    220\u001b[0m     \u001b[38;5;66;03m# otherwise, it must be a string so look it up\u001b[39;00m\n\u001b[1;32m    221\u001b[0m     \u001b[38;5;28;01mreturn\u001b[39;00m \u001b[38;5;28mself\u001b[39m[cmap]\n\u001b[0;32m--> 222\u001b[0m \u001b[38;5;28;01mraise\u001b[39;00m \u001b[38;5;167;01mTypeError\u001b[39;00m(\n\u001b[1;32m    223\u001b[0m     \u001b[38;5;124m'\u001b[39m\u001b[38;5;124mget_cmap expects None or an instance of a str or Colormap . \u001b[39m\u001b[38;5;124m'\u001b[39m \u001b[38;5;241m+\u001b[39m\n\u001b[1;32m    224\u001b[0m     \u001b[38;5;124mf\u001b[39m\u001b[38;5;124m'\u001b[39m\u001b[38;5;124myou passed \u001b[39m\u001b[38;5;132;01m{\u001b[39;00mcmap\u001b[38;5;132;01m!r}\u001b[39;00m\u001b[38;5;124m of type \u001b[39m\u001b[38;5;132;01m{\u001b[39;00m\u001b[38;5;28mtype\u001b[39m(cmap)\u001b[38;5;132;01m}\u001b[39;00m\u001b[38;5;124m'\u001b[39m\n\u001b[1;32m    225\u001b[0m )\n",
      "\u001b[0;31mTypeError\u001b[0m: get_cmap expects None or an instance of a str or Colormap . you passed {0: (0, 0, 0), 10: (21, 176, 26), 20: (255, 128, 255), 30: (255, 255, 0), 40: (255, 0, 255), 50: (255, 0, 0), 60: (255, 255, 200), 80: (0, 0, 255)} of type <class 'dict'>"
     ]
    }
   ],
   "source": [
    "m = leafmap.Map()\n",
    "\n",
    "m.add_raster('lulc_city_rf_2024_cog.tif', colormap=color_lulc_map, layer_name=\"2024 Baseline\")\n",
    "# m.add_raster('lulc_city_camk_2024_3st_1.tif', layer_name=\"2034 CAMK\")\n",
    "\n",
    "m"
   ]
  },
  {
   "cell_type": "code",
   "execution_count": 33,
   "metadata": {},
   "outputs": [
    {
     "data": {
      "application/vnd.jupyter.widget-view+json": {
       "model_id": "7d2419de091b4661b4cf00960ec0cee7",
       "version_major": 2,
       "version_minor": 0
      },
      "text/plain": [
       "Map(center=[20, 0], controls=(ZoomControl(options=['position', 'zoom_in_text', 'zoom_in_title', 'zoom_out_text…"
      ]
     },
     "execution_count": 33,
     "metadata": {},
     "output_type": "execute_result"
    }
   ],
   "source": [
    "url = \"https://clarkcga-aquaculture.s3.amazonaws.com/data/el_salvador/cover/El_Salvador_Landcover_2022.tif\"\n",
    "custom_cmap = {\n",
    "    \"0\": \"#000000\",\n",
    "    \"1\": \"#008040\",\n",
    "    \"2\": \"#ff0000\",\n",
    "    \"3\": \"#ffff00\",\n",
    "    \"4\": \"#8000ff\",\n",
    "    \"5\": \"#8080ff\",\n",
    "    \"6\": \"#00ff00\",\n",
    "    \"7\": \"#c0c0c0\",\n",
    "    \"8\": \"#16002d\",\n",
    "    \"9\": \"#ff80ff\",\n",
    "    \"10\": \"#b3ffb3\",\n",
    "    \"11\": \"#ff8080\",\n",
    "    \"12\": \"#ffffbf\",\n",
    "    \"13\": \"#000080\",\n",
    "    \"14\": \"#808000\",\n",
    "    \"15\": \"#00ffff\",\n",
    "}\n",
    "m = leafmap.Map()\n",
    "m.add_cog_layer(url, colormap=custom_cmap, name=\"El_Salvador\")\n",
    "m"
   ]
  },
  {
   "cell_type": "code",
   "execution_count": 7,
   "metadata": {},
   "outputs": [],
   "source": [
    "m.add_raster('lulc_city_rf_2024.tif', layer_name=\"Landsat\")"
   ]
  },
  {
   "cell_type": "code",
   "execution_count": 8,
   "metadata": {},
   "outputs": [
    {
     "data": {
      "application/vnd.jupyter.widget-view+json": {
       "model_id": "d6e2fa5950694203ab4354ce4cfc15bb",
       "version_major": 2,
       "version_minor": 0
      },
      "text/plain": [
       "Map(bottom=58847.0, center=[18.845892, 99.07596050000001], controls=(ZoomControl(options=['position', 'zoom_in…"
      ]
     },
     "execution_count": 8,
     "metadata": {},
     "output_type": "execute_result"
    }
   ],
   "source": [
    "m"
   ]
  },
  {
   "cell_type": "code",
   "execution_count": 18,
   "metadata": {},
   "outputs": [],
   "source": [
    "color_lulc_map ={\n",
    "     \"0\": '#000000',\n",
    "    \"10\": '#15B01A',\n",
    "    \"20\": '#FFA500',\n",
    "    \"30\": '#FFFF00',\n",
    "    \"40\": '#FF00FF',\n",
    "    \"50\": '#FF0000',\n",
    "    \"60\": '#FFFFCB',\n",
    "    \"80\": '#0000FF'\n",
    "}"
   ]
  },
  {
   "cell_type": "code",
   "execution_count": 37,
   "metadata": {},
   "outputs": [
    {
     "ename": "KeyError",
     "evalue": "'band_descriptions'",
     "output_type": "error",
     "traceback": [
      "\u001b[0;31m---------------------------------------------------------------------------\u001b[0m",
      "\u001b[0;31mKeyError\u001b[0m                                  Traceback (most recent call last)",
      "Cell \u001b[0;32mIn[37], line 2\u001b[0m\n\u001b[1;32m      1\u001b[0m m \u001b[38;5;241m=\u001b[39m leafmap\u001b[38;5;241m.\u001b[39mMap()\n\u001b[0;32m----> 2\u001b[0m \u001b[43mm\u001b[49m\u001b[38;5;241;43m.\u001b[39;49m\u001b[43madd_cog_layer\u001b[49m\u001b[43m(\u001b[49m\u001b[38;5;124;43m'\u001b[39;49m\u001b[38;5;124;43mlulc_city_camk_2024_3st_3_cog.tif\u001b[39;49m\u001b[38;5;124;43m'\u001b[39;49m\u001b[43m \u001b[49m\u001b[43m,\u001b[49m\u001b[43m \u001b[49m\u001b[43mname\u001b[49m\u001b[38;5;241;43m=\u001b[39;49m\u001b[38;5;124;43m\"\u001b[39;49m\u001b[38;5;124;43mLandsat\u001b[39;49m\u001b[38;5;124;43m\"\u001b[39;49m\u001b[43m)\u001b[49m\n\u001b[1;32m      3\u001b[0m m\n",
      "File \u001b[0;32m/opt/anaconda3/envs/ttg-tes/lib/python3.10/site-packages/leafmap/leafmap.py:1019\u001b[0m, in \u001b[0;36mMap.add_cog_layer\u001b[0;34m(self, url, name, attribution, opacity, shown, bands, titiler_endpoint, zoom_to_layer, layer_index, **kwargs)\u001b[0m\n\u001b[1;32m    989\u001b[0m \u001b[38;5;28;01mdef\u001b[39;00m \u001b[38;5;21madd_cog_layer\u001b[39m(\n\u001b[1;32m    990\u001b[0m     \u001b[38;5;28mself\u001b[39m,\n\u001b[1;32m    991\u001b[0m     url,\n\u001b[0;32m   (...)\u001b[0m\n\u001b[1;32m   1000\u001b[0m     \u001b[38;5;241m*\u001b[39m\u001b[38;5;241m*\u001b[39mkwargs,\n\u001b[1;32m   1001\u001b[0m ) \u001b[38;5;241m-\u001b[39m\u001b[38;5;241m>\u001b[39m \u001b[38;5;28;01mNone\u001b[39;00m:\n\u001b[1;32m   1002\u001b[0m \u001b[38;5;250m    \u001b[39m\u001b[38;5;124;03m\"\"\"Adds a COG TileLayer to the map.\u001b[39;00m\n\u001b[1;32m   1003\u001b[0m \n\u001b[1;32m   1004\u001b[0m \u001b[38;5;124;03m    Args:\u001b[39;00m\n\u001b[0;32m   (...)\u001b[0m\n\u001b[1;32m   1017\u001b[0m \u001b[38;5;124;03m            apply a rescaling to multiple bands, use something like `rescale=[\"164,223\",\"130,211\",\"99,212\"]`.\u001b[39;00m\n\u001b[1;32m   1018\u001b[0m \u001b[38;5;124;03m    \"\"\"\u001b[39;00m\n\u001b[0;32m-> 1019\u001b[0m     band_names \u001b[38;5;241m=\u001b[39m \u001b[43mcommon\u001b[49m\u001b[38;5;241;43m.\u001b[39;49m\u001b[43mcog_bands\u001b[49m\u001b[43m(\u001b[49m\u001b[43murl\u001b[49m\u001b[43m,\u001b[49m\u001b[43m \u001b[49m\u001b[43mtitiler_endpoint\u001b[49m\u001b[43m)\u001b[49m\n\u001b[1;32m   1021\u001b[0m     \u001b[38;5;28;01mif\u001b[39;00m bands \u001b[38;5;129;01mis\u001b[39;00m \u001b[38;5;129;01mnot\u001b[39;00m \u001b[38;5;28;01mNone\u001b[39;00m:\n\u001b[1;32m   1022\u001b[0m         \u001b[38;5;28;01mif\u001b[39;00m \u001b[38;5;129;01mnot\u001b[39;00m \u001b[38;5;28misinstance\u001b[39m(bands, \u001b[38;5;28mlist\u001b[39m):\n",
      "File \u001b[0;32m/opt/anaconda3/envs/ttg-tes/lib/python3.10/site-packages/leafmap/stac.py:430\u001b[0m, in \u001b[0;36mcog_bands\u001b[0;34m(url, titiler_endpoint)\u001b[0m\n\u001b[1;32m    422\u001b[0m titiler_endpoint \u001b[38;5;241m=\u001b[39m check_titiler_endpoint(titiler_endpoint)\n\u001b[1;32m    423\u001b[0m r \u001b[38;5;241m=\u001b[39m requests\u001b[38;5;241m.\u001b[39mget(\n\u001b[1;32m    424\u001b[0m     \u001b[38;5;124mf\u001b[39m\u001b[38;5;124m\"\u001b[39m\u001b[38;5;132;01m{\u001b[39;00mtitiler_endpoint\u001b[38;5;132;01m}\u001b[39;00m\u001b[38;5;124m/cog/info\u001b[39m\u001b[38;5;124m\"\u001b[39m,\n\u001b[1;32m    425\u001b[0m     params\u001b[38;5;241m=\u001b[39m{\n\u001b[1;32m    426\u001b[0m         \u001b[38;5;124m\"\u001b[39m\u001b[38;5;124murl\u001b[39m\u001b[38;5;124m\"\u001b[39m: url,\n\u001b[1;32m    427\u001b[0m     },\n\u001b[1;32m    428\u001b[0m )\u001b[38;5;241m.\u001b[39mjson()\n\u001b[0;32m--> 430\u001b[0m bands \u001b[38;5;241m=\u001b[39m [b[\u001b[38;5;241m0\u001b[39m] \u001b[38;5;28;01mfor\u001b[39;00m b \u001b[38;5;129;01min\u001b[39;00m \u001b[43mr\u001b[49m\u001b[43m[\u001b[49m\u001b[38;5;124;43m\"\u001b[39;49m\u001b[38;5;124;43mband_descriptions\u001b[39;49m\u001b[38;5;124;43m\"\u001b[39;49m\u001b[43m]\u001b[49m]\n\u001b[1;32m    431\u001b[0m \u001b[38;5;28;01mreturn\u001b[39;00m bands\n",
      "\u001b[0;31mKeyError\u001b[0m: 'band_descriptions'"
     ]
    }
   ],
   "source": [
    "m = leafmap.Map()\n",
    "m.add_cog_layer('lulc_city_camk_2024_3st_3_cog.tif' , name=\"Landsat\")\n",
    "m"
   ]
  },
  {
   "cell_type": "markdown",
   "metadata": {},
   "source": [
    "## 4. Publishing Web Map Application"
   ]
  },
  {
   "cell_type": "code",
   "execution_count": 35,
   "metadata": {},
   "outputs": [
    {
     "name": "stdout",
     "output_type": "stream",
     "text": [
      "Package                   Version\n",
      "------------------------- -----------\n",
      "affine                    2.4.0\n",
      "aniso8601                 9.0.1\n",
      "annotated-types           0.7.0\n",
      "anyio                     4.7.0\n",
      "anywidget                 0.9.13\n",
      "appnope                   0.1.4\n",
      "asttokens                 2.4.1\n",
      "attrs                     24.2.0\n",
      "beautifulsoup4            4.12.3\n",
      "biopython                 1.84\n",
      "blinker                   1.9.0\n",
      "bqplot                    0.12.43\n",
      "branca                    0.8.1\n",
      "cachelib                  0.9.0\n",
      "cachetools                5.5.0\n",
      "certifi                   2024.8.30\n",
      "charset-normalizer        3.4.0\n",
      "click                     8.1.7\n",
      "click-plugins             1.1.1\n",
      "cligj                     0.7.2\n",
      "color-operations          0.1.6\n",
      "colour                    0.1.5\n",
      "comm                      0.2.2\n",
      "contourpy                 1.3.1\n",
      "cycler                    0.12.1\n",
      "debugpy                   1.8.9\n",
      "decorator                 5.1.1\n",
      "duckdb                    1.1.3\n",
      "exceptiongroup            1.2.2\n",
      "executing                 2.1.0\n",
      "fastjsonschema            2.21.0\n",
      "filelock                  3.16.1\n",
      "fiona                     1.10.1\n",
      "Flask                     3.1.0\n",
      "Flask-Caching             2.3.0\n",
      "Flask-Cors                5.0.0\n",
      "flask-restx               1.3.0\n",
      "folium                    0.19.2\n",
      "fonttools                 4.55.0\n",
      "fsspec                    2024.10.0\n",
      "gdown                     5.2.0\n",
      "geojson                   3.1.0\n",
      "geopandas                 1.0.1\n",
      "h11                       0.14.0\n",
      "httpcore                  1.0.7\n",
      "httpx                     0.28.1\n",
      "idna                      3.10\n",
      "importlib_metadata        8.5.0\n",
      "importlib_resources       6.4.5\n",
      "ipyevents                 2.0.2\n",
      "ipyfilechooser            0.6.0\n",
      "ipykernel                 6.29.5\n",
      "ipyleaflet                0.19.2\n",
      "ipython                   8.29.0\n",
      "ipytree                   0.2.2\n",
      "ipyvue                    1.11.2\n",
      "ipyvuetify                1.10.0\n",
      "ipywidgets                8.1.5\n",
      "itsdangerous              2.2.0\n",
      "jedi                      0.19.2\n",
      "Jinja2                    3.1.4\n",
      "joblib                    1.4.2\n",
      "jsonschema                4.23.0\n",
      "jsonschema-specifications 2024.10.1\n",
      "jupyter_client            8.6.3\n",
      "jupyter_core              5.7.2\n",
      "jupyter-leaflet           0.19.2\n",
      "jupyterlab_widgets        3.0.13\n",
      "kiwisolver                1.4.7\n",
      "leafmap                   0.42.6\n",
      "localtileserver           0.10.5\n",
      "mapclassify               2.8.1\n",
      "markdown-it-py            3.0.0\n",
      "MarkupSafe                3.0.2\n",
      "matplotlib                3.9.2\n",
      "matplotlib-inline         0.1.7\n",
      "mdurl                     0.1.2\n",
      "morecantile               6.1.0\n",
      "mpmath                    1.3.0\n",
      "nbformat                  5.10.4\n",
      "nest_asyncio              1.6.0\n",
      "networkx                  3.4.2\n",
      "numexpr                   2.10.2\n",
      "numpy                     1.24.1\n",
      "packaging                 24.2\n",
      "pandas                    2.2.3\n",
      "parso                     0.8.4\n",
      "pexpect                   4.9.0\n",
      "pickleshare               0.7.5\n",
      "pillow                    11.0.0\n",
      "pip                       24.2\n",
      "planetary-computer        1.0.0\n",
      "platformdirs              4.3.6\n",
      "plotly                    5.24.1\n",
      "prompt_toolkit            3.0.48\n",
      "psutil                    6.1.0\n",
      "psygnal                   0.11.1\n",
      "ptyprocess                0.7.0\n",
      "pure_eval                 0.2.3\n",
      "pyCirclize                1.7.1\n",
      "pydantic                  2.10.2\n",
      "pydantic_core             2.27.1\n",
      "Pygments                  2.18.0\n",
      "pyogrio                   0.10.0\n",
      "pyparsing                 3.2.0\n",
      "pyproj                    3.7.0\n",
      "pySankey                  0.0.1\n",
      "pyshp                     2.3.1\n",
      "PySocks                   1.7.1\n",
      "pystac                    1.11.0\n",
      "pystac-client             0.8.5\n",
      "python-box                7.3.0\n",
      "python-dateutil           2.9.0.post0\n",
      "python-dotenv             1.0.1\n",
      "pytz                      2024.2\n",
      "pyzmq                     26.2.0\n",
      "rasterio                  1.4.2\n",
      "referencing               0.35.1\n",
      "requests                  2.32.3\n",
      "rich                      13.9.4\n",
      "rio-cogeo                 5.4.1\n",
      "rio-tiler                 7.2.2\n",
      "rpds-py                   0.21.0\n",
      "scikit-learn              1.5.2\n",
      "scipy                     1.14.1\n",
      "scooby                    0.10.0\n",
      "seaborn                   0.13.2\n",
      "server-thread             0.2.0\n",
      "setuptools                75.1.0\n",
      "shapely                   2.0.6\n",
      "six                       1.16.0\n",
      "sniffio                   1.3.1\n",
      "soupsieve                 2.6\n",
      "stack-data                0.6.2\n",
      "sympy                     1.13.3\n",
      "tabulate                  0.9.0\n",
      "tenacity                  9.0.0\n",
      "threadpoolctl             3.5.0\n",
      "torch                     2.2.2\n",
      "torchaudio                2.2.2\n",
      "torchsummary              1.5.1\n",
      "torchvision               0.17.2\n",
      "tornado                   6.4.2\n",
      "tqdm                      4.67.1\n",
      "traitlets                 5.14.3\n",
      "traittypes                0.2.1\n",
      "typing_extensions         4.12.2\n",
      "tzdata                    2024.2\n",
      "urllib3                   2.2.3\n",
      "uvicorn                   0.34.0\n",
      "wcwidth                   0.2.13\n",
      "Werkzeug                  3.1.3\n",
      "wheel                     0.44.0\n",
      "whitebox                  2.3.5\n",
      "whiteboxgui               2.3.0\n",
      "widgetsnbextension        4.0.13\n",
      "xarray                    2024.11.0\n",
      "xyzservices               2024.9.0\n",
      "zipp                      3.21.0\n"
     ]
    }
   ],
   "source": [
    "!pip list rasterio"
   ]
  },
  {
   "cell_type": "markdown",
   "metadata": {},
   "source": [
    "## 5.  Reviewing Remote Sensing Use Cases"
   ]
  },
  {
   "cell_type": "markdown",
   "metadata": {},
   "source": []
  }
 ],
 "metadata": {
  "kernelspec": {
   "display_name": "ttg-tes",
   "language": "python",
   "name": "python3"
  },
  "language_info": {
   "codemirror_mode": {
    "name": "ipython",
    "version": 3
   },
   "file_extension": ".py",
   "mimetype": "text/x-python",
   "name": "python",
   "nbconvert_exporter": "python",
   "pygments_lexer": "ipython3",
   "version": "3.10.15"
  }
 },
 "nbformat": 4,
 "nbformat_minor": 2
}
